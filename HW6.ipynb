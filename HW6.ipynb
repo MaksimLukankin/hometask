{
  "nbformat": 4,
  "nbformat_minor": 0,
  "metadata": {
    "colab": {
      "name": "HW6",
      "provenance": [],
      "collapsed_sections": []
    },
    "kernelspec": {
      "name": "python3",
      "display_name": "Python 3"
    }
  },
  "cells": [
    {
      "cell_type": "code",
      "metadata": {
        "colab": {
          "base_uri": "https://localhost:8080/"
        },
        "id": "VSK5NgK8ELKn",
        "outputId": "5f017d7b-c484-4cf3-a46a-e48e0d0ae9e2"
      },
      "source": [
        "#1 Оценить  En(ξ)  с помощью МСМС для графа 8х8\n",
        "import numpy as np\n",
        "import matplotlib.pyplot as plt\n",
        "def proposal(current, ind, **kwargs):\n",
        "    _ = kwargs\n",
        "    ind = np.random.choice(8,2)\n",
        "    current[ind[0]][ind[1]] = 1\n",
        "    if ind[0] > 0:\n",
        "        if(current[ind[0]-1][ind[1]] == 1): current[ind[0]][ind[1]] = 0\n",
        "    if ind[0] < 7:\n",
        "        if(current[ind[0]+1][ind[1]] == 1): current[ind[0]][ind[1]] = 0\n",
        "    if ind[1] > 0:\n",
        "        if(current[ind[0]][ind[1]-1] == 1): current[ind[0]][ind[1]] = 0\n",
        "    if ind[1] < 7:\n",
        "        if(current[ind[0]][ind[1]+1] == 1): current[ind[0]][ind[1]] = 0\n",
        "    return current\n",
        "def metroplis(start, value, proposal, niter, nburn=0, **kwargs):\n",
        "    current = start\n",
        "    post = []\n",
        "    for i in range(niter):\n",
        "        val = value(current, **kwargs)\n",
        "        ind = np.random.choice(8,2)\n",
        "        proposed = proposal(current, ind, **kwargs)\n",
        "        p = value(proposed, **kwargs)\n",
        "        if val > 0: \n",
        "            p = p / val\n",
        "        if np.random.rand() > p:\n",
        "            current = proposed\n",
        "        else:\n",
        "            current[ind[0]][ind[1]] = 0;\n",
        "        post.append(int(np.sum(current)))\n",
        "    return post[nburn:] \n",
        "def value(x, **kwargs):\n",
        "    return x.sum()\n",
        "N = 10000\n",
        "E = 0\n",
        "post = metroplis(np.zeros((8,8)), value, proposal, N)\n",
        "E = np.mean(post)\n",
        "print(E)\n"
      ],
      "execution_count": 110,
      "outputs": [
        {
          "output_type": "stream",
          "text": [
            "15.2783\n"
          ],
          "name": "stdout"
        }
      ]
    },
    {
      "cell_type": "code",
      "metadata": {
        "colab": {
          "base_uri": "https://localhost:8080/"
        },
        "id": "Y396siZZFWju",
        "outputId": "670ec0d1-2ee2-416a-fedc-026ee88cd26c"
      },
      "source": [
        "#2 Обосновать численно и графически стационарность\n",
        "def g_test(x):\n",
        "    return stats.ttest_ind(x[:int(len(x)/2)], x[-int(len(x)/2):], equal_var=False)\n",
        "g_test(post[:1000])[1]"
      ],
      "execution_count": 111,
      "outputs": [
        {
          "output_type": "execute_result",
          "data": {
            "text/plain": [
              "0.05553881773260206"
            ]
          },
          "metadata": {
            "tags": []
          },
          "execution_count": 111
        }
      ]
    },
    {
      "cell_type": "code",
      "metadata": {
        "colab": {
          "base_uri": "https://localhost:8080/",
          "height": 265
        },
        "id": "yWZhE6g4Hydr",
        "outputId": "4d768678-c2cf-480d-fa52-4caf0ae117a1"
      },
      "source": [
        "plt.plot(post)\n",
        "plt.show()"
      ],
      "execution_count": 116,
      "outputs": [
        {
          "output_type": "display_data",
          "data": {
            "image/png": "[encoded data removed]",
            "text/plain": [
              "<Figure size 432x288 with 1 Axes>"
            ]
          },
          "metadata": {
            "tags": [],
            "needs_background": "light"
          }
        }
      ]
    }
  ]
}