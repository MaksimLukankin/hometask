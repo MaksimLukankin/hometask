{
 "cells": [
  {
   "cell_type": "code",
   "execution_count": 16,
   "metadata": {},
   "outputs": [
    {
     "name": "stdout",
     "output_type": "stream",
     "text": [
      "[[0.26035925 0.97711905 0.86069281]\n",
      " [0.12769379 0.60917454 0.53622503]\n",
      " [0.62863142 0.5079635  0.95444621]\n",
      " [0.65259322 0.03694813 0.38528716]\n",
      " [0.43139654 0.46089327 0.72776323]\n",
      " [0.0339968  0.17912405 0.44381776]\n",
      " [0.59420133 0.26392519 0.17528304]\n",
      " [0.14952222 0.22830792 0.27379544]\n",
      " [0.26804367 0.95179394 0.60523247]\n",
      " [0.77737116 0.24048156 0.99232242]]\n",
      "[0 2 1 2 1 2 0 2 2 1]\n",
      "0.2603592486374682\n",
      "0.5362250338091195\n",
      "0.50796350256858\n",
      "0.38528715778525646\n",
      "0.4608932724340826\n",
      "0.4438177649937104\n",
      "0.5942013318517932\n",
      "0.2737954443858279\n",
      "0.6052324655580024\n",
      "0.24048155547784378\n"
     ]
    }
   ],
   "source": [
    "#1 задача\n",
    "import numpy as np\n",
    "a = np.random.random((10, 3))\n",
    "print (a)\n",
    "l=(np.abs(a-0.5)).argmin(axis=1)\n",
    "print (l)\n",
    "for i in range(len(a)):\n",
    "    print(a[i][l[i]])"
   ]
  },
  {
   "cell_type": "code",
   "execution_count": 15,
   "metadata": {},
   "outputs": [
    {
     "name": "stdout",
     "output_type": "stream",
     "text": [
      "[[0.58920281 0.12686138 0.32421232 0.52341664 0.06964786 0.07062735]\n",
      " [0.23802316 0.90802801 0.97690347 0.60542261 0.74842795 0.15289269]\n",
      " [0.85611649 0.83099045 0.68826444 0.45236475 0.81357548 0.05258585]\n",
      " [0.6849887  0.24408423 0.16069601 0.80156456 0.9876367  0.36641425]\n",
      " [0.50899659 0.46826105 0.03338712 0.79276013 0.02465149 0.15284457]\n",
      " [0.32657018 0.71888795 0.82568148 0.18293    0.21579044 0.08181756]]\n",
      "[0.23802316 0.12686138 0.03338712 0.18293    0.02465149 0.05258585]\n",
      "[1.70396836 3.6296979  3.69389746 3.24538444 1.98090096 2.3516776 ]\n",
      "[  7.15883421  28.61152769 110.63839518  17.7411275   80.35622845\n",
      "  44.72073048]\n"
     ]
    }
   ],
   "source": [
    "#2 задача\n",
    "import numpy as np\n",
    "a = np.random.random((6, 6))\n",
    "print (a);\n",
    "b = a.min(axis=0)\n",
    "print (b);\n",
    "c = sum(a.T)\n",
    "print (c);\n",
    "c / b\n",
    "print (c / b)"
   ]
  },
  {
   "cell_type": "code",
   "execution_count": 13,
   "metadata": {},
   "outputs": [
    {
     "name": "stdout",
     "output_type": "stream",
     "text": [
      "5\n"
     ]
    }
   ],
   "source": [
    "#3 задача\n",
    "import numpy as np\n",
    "x = np.array([6, 2, 0, 3, 0, 0, 5, 7, 0])\n",
    "zero = x == 0\n",
    "print (x[1:][zero[:-1]].max())"
   ]
  },
  {
   "cell_type": "code",
   "execution_count": 14,
   "metadata": {},
   "outputs": [
    {
     "name": "stdout",
     "output_type": "stream",
     "text": [
      "5\n",
      "[2. 2. 2. 2. 1. 4. 1. 1. 2. 1.]\n"
     ]
    }
   ],
   "source": [
    "#4 задача\n",
    "import numpy as np\n",
    "x = np.array([6, 2, 0, 3, 0, 0, 5, 7, 0])\n",
    "zero = x == 0\n",
    "print (x[1:][zero[:-1]].max())\n",
    "\n",
    "x = np.ones(10) \n",
    "i = np.array([0, 1, 2, 3, 5, 5, 5, 8])\n",
    "for index in range(len(x)):\n",
    "    n = np.sum(i==index)\n",
    "    x[index]+=n\n",
    "print (x)"
   ]
  },
  {
   "cell_type": "code",
   "execution_count": null,
   "metadata": {},
   "outputs": [],
   "source": [
    "#5 задача у меня не получилась\n",
    "from scipy.spatial.distance import cdist\n",
    "import numpy\n",
    "def centroid(*cluster):\n",
    "    x_coords = [p[0] for p in points]\n",
    "    y_coords = [p[1] for p in points]\n",
    "    _len = len(points)\n",
    "    centroid_x = sum(x_coords)/_len\n",
    "    centroid_y = sum(y_coords)/_len\n",
    "    return [centroid_x, centroid_y]\n",
    "def kmeans( obs, k_or_guess, iters = 1000, thresh = 1 ):\n",
    "    if ( type(k_or_guess) is int ):\n",
    "        ind = np.arange(len(obs))\n",
    "        np.random.shuffle(ind)\n",
    "        rind = ind[:k_or_guess]\n",
    "        centres = x[rind]\n",
    "    else:\n",
    "        centres = np.array( k_or_guess )\n",
    "    i=0\n",
    "    while (i<iters and abs(cdist(x[centroids_new], x[centroids_old], 'euclidean'))<thresh):\n",
    "        centroids_old = centres\n",
    "        centroids_new = centroid(x[])"
   ]
  }
 ],
 "metadata": {
  "kernelspec": {
   "display_name": "Python 3",
   "language": "python",
   "name": "python3"
  },
  "language_info": {
   "codemirror_mode": {
    "name": "ipython",
    "version": 3
   },
   "file_extension": ".py",
   "mimetype": "text/x-python",
   "name": "python",
   "nbconvert_exporter": "python",
   "pygments_lexer": "ipython3",
   "version": "3.8.3"
  }
 },
 "nbformat": 4,
 "nbformat_minor": 4
}
